{
 "cells": [
  {
   "cell_type": "code",
   "execution_count": 33,
   "metadata": {},
   "outputs": [],
   "source": [
    "import numpy as np\n",
    "from math import sqrt"
   ]
  },
  {
   "cell_type": "code",
   "execution_count": 43,
   "metadata": {},
   "outputs": [],
   "source": [
    "a=np.array([[1,3],[5,2]])\n",
    "b=np.array([[3,5],[1,4]])\n",
    "#new_data_point=[4,6]  \n",
    "xi=3\n",
    "yi=4\n",
    "list1=[]\n",
    "list2=[]"
   ]
  },
  {
   "cell_type": "code",
   "execution_count": 44,
   "metadata": {},
   "outputs": [
    {
     "name": "stdout",
     "output_type": "stream",
     "text": [
      "[2.23606797749979, 3.605551275463989]\n",
      "[2.23606797749979, 3.605551275463989]\n",
      "[2.23606797749979, 2.23606797749979, 3.605551275463989, 3.605551275463989]\n"
     ]
    }
   ],
   "source": [
    "#euclidean distance\n",
    "for i in range(0,len(a)):\n",
    "    j=0\n",
    "    ED1=((a[i,j]-xi)**2+(b[i,j]-yi)**2)\n",
    "    s=np.sqrt(ED1)\n",
    "    list1.append(s)\n",
    "    ED2=((a[i,j]-xi)**2+(b[i,j]-yi)**2)\n",
    "    w=np.sqrt(ED2)\n",
    "    list2.append(w)\n",
    "print(list1)\n",
    "print(list2)\n",
    "list3=list2\n",
    "list3.extend(list1)\n",
    "list3.sort()\n",
    "print(list3)"
   ]
  },
  {
   "cell_type": "code",
   "execution_count": 45,
   "metadata": {},
   "outputs": [
    {
     "name": "stdout",
     "output_type": "stream",
     "text": [
      "Enter the value of k:2\n",
      "Point belongs to cluster b\n"
     ]
    }
   ],
   "source": [
    "k=int(input(\"Enter the value of k:\"))\n",
    "o=0\n",
    "p=0\n",
    "for g in range(0,k-1):\n",
    "    for d in range(0,len(list1)-1):\n",
    "        if(list1[d]==list3[g]):\n",
    "            o=o+1\n",
    "    for t in range(0,len(list2)-1):\n",
    "        if(list2[t]==list3[g]):\n",
    "            p=p+1\n",
    "if(o>p):\n",
    "    print(\"Point belongs to cluster a\")\n",
    "else:\n",
    "    print(\"Point belongs to cluster b\")    "
   ]
  }
 ],
 "metadata": {
  "kernelspec": {
   "display_name": "Python 3",
   "language": "python",
   "name": "python3"
  },
  "language_info": {
   "codemirror_mode": {
    "name": "ipython",
    "version": 3
   },
   "file_extension": ".py",
   "mimetype": "text/x-python",
   "name": "python",
   "nbconvert_exporter": "python",
   "pygments_lexer": "ipython3",
   "version": "3.7.3"
  }
 },
 "nbformat": 4,
 "nbformat_minor": 2
}
